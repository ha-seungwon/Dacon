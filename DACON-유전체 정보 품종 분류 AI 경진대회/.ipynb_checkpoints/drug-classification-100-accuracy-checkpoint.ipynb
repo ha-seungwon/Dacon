{
 "cells": [
  {
   "cell_type": "code",
   "execution_count": 1,
   "id": "57ed5025",
   "metadata": {
    "execution": {
     "iopub.execute_input": "2022-12-09T06:38:12.697588Z",
     "iopub.status.busy": "2022-12-09T06:38:12.696836Z",
     "iopub.status.idle": "2022-12-09T06:38:12.712247Z",
     "shell.execute_reply": "2022-12-09T06:38:12.710735Z"
    },
    "papermill": {
     "duration": 0.032794,
     "end_time": "2022-12-09T06:38:12.715815",
     "exception": false,
     "start_time": "2022-12-09T06:38:12.683021",
     "status": "completed"
    },
    "tags": []
   },
   "outputs": [],
   "source": [
    "#Use sparse cross entropy if labels are 1,2,3,4\n",
    "#Use categorical cross entropy if label are [0,1,0]:2 ,[0,0,1]:3\n",
    "\n",
    "import numpy as np \n",
    "import pandas as pd \n"
   ]
  },
  {
   "cell_type": "code",
   "execution_count": 2,
   "id": "a6349eb6",
   "metadata": {
    "execution": {
     "iopub.execute_input": "2022-12-09T06:38:12.739466Z",
     "iopub.status.busy": "2022-12-09T06:38:12.737976Z",
     "iopub.status.idle": "2022-12-09T06:38:12.763714Z",
     "shell.execute_reply": "2022-12-09T06:38:12.762394Z"
    },
    "papermill": {
     "duration": 0.040692,
     "end_time": "2022-12-09T06:38:12.766673",
     "exception": false,
     "start_time": "2022-12-09T06:38:12.725981",
     "status": "completed"
    },
    "tags": []
   },
   "outputs": [],
   "source": [
    "df=pd.read_csv('/kaggle/input/drug-classification/drug200.csv')"
   ]
  },
  {
   "cell_type": "code",
   "execution_count": 3,
   "id": "aedd7f85",
   "metadata": {
    "execution": {
     "iopub.execute_input": "2022-12-09T06:38:12.790473Z",
     "iopub.status.busy": "2022-12-09T06:38:12.789053Z",
     "iopub.status.idle": "2022-12-09T06:38:12.829862Z",
     "shell.execute_reply": "2022-12-09T06:38:12.828606Z"
    },
    "papermill": {
     "duration": 0.05647,
     "end_time": "2022-12-09T06:38:12.833690",
     "exception": false,
     "start_time": "2022-12-09T06:38:12.777220",
     "status": "completed"
    },
    "tags": []
   },
   "outputs": [
    {
     "data": {
      "text/html": [
       "<div>\n",
       "<style scoped>\n",
       "    .dataframe tbody tr th:only-of-type {\n",
       "        vertical-align: middle;\n",
       "    }\n",
       "\n",
       "    .dataframe tbody tr th {\n",
       "        vertical-align: top;\n",
       "    }\n",
       "\n",
       "    .dataframe thead th {\n",
       "        text-align: right;\n",
       "    }\n",
       "</style>\n",
       "<table border=\"1\" class=\"dataframe\">\n",
       "  <thead>\n",
       "    <tr style=\"text-align: right;\">\n",
       "      <th></th>\n",
       "      <th>Age</th>\n",
       "      <th>Sex</th>\n",
       "      <th>BP</th>\n",
       "      <th>Cholesterol</th>\n",
       "      <th>Na_to_K</th>\n",
       "      <th>Drug</th>\n",
       "    </tr>\n",
       "  </thead>\n",
       "  <tbody>\n",
       "    <tr>\n",
       "      <th>0</th>\n",
       "      <td>23</td>\n",
       "      <td>F</td>\n",
       "      <td>HIGH</td>\n",
       "      <td>HIGH</td>\n",
       "      <td>25.355</td>\n",
       "      <td>DrugY</td>\n",
       "    </tr>\n",
       "    <tr>\n",
       "      <th>1</th>\n",
       "      <td>47</td>\n",
       "      <td>M</td>\n",
       "      <td>LOW</td>\n",
       "      <td>HIGH</td>\n",
       "      <td>13.093</td>\n",
       "      <td>drugC</td>\n",
       "    </tr>\n",
       "    <tr>\n",
       "      <th>2</th>\n",
       "      <td>47</td>\n",
       "      <td>M</td>\n",
       "      <td>LOW</td>\n",
       "      <td>HIGH</td>\n",
       "      <td>10.114</td>\n",
       "      <td>drugC</td>\n",
       "    </tr>\n",
       "    <tr>\n",
       "      <th>3</th>\n",
       "      <td>28</td>\n",
       "      <td>F</td>\n",
       "      <td>NORMAL</td>\n",
       "      <td>HIGH</td>\n",
       "      <td>7.798</td>\n",
       "      <td>drugX</td>\n",
       "    </tr>\n",
       "    <tr>\n",
       "      <th>4</th>\n",
       "      <td>61</td>\n",
       "      <td>F</td>\n",
       "      <td>LOW</td>\n",
       "      <td>HIGH</td>\n",
       "      <td>18.043</td>\n",
       "      <td>DrugY</td>\n",
       "    </tr>\n",
       "    <tr>\n",
       "      <th>...</th>\n",
       "      <td>...</td>\n",
       "      <td>...</td>\n",
       "      <td>...</td>\n",
       "      <td>...</td>\n",
       "      <td>...</td>\n",
       "      <td>...</td>\n",
       "    </tr>\n",
       "    <tr>\n",
       "      <th>195</th>\n",
       "      <td>56</td>\n",
       "      <td>F</td>\n",
       "      <td>LOW</td>\n",
       "      <td>HIGH</td>\n",
       "      <td>11.567</td>\n",
       "      <td>drugC</td>\n",
       "    </tr>\n",
       "    <tr>\n",
       "      <th>196</th>\n",
       "      <td>16</td>\n",
       "      <td>M</td>\n",
       "      <td>LOW</td>\n",
       "      <td>HIGH</td>\n",
       "      <td>12.006</td>\n",
       "      <td>drugC</td>\n",
       "    </tr>\n",
       "    <tr>\n",
       "      <th>197</th>\n",
       "      <td>52</td>\n",
       "      <td>M</td>\n",
       "      <td>NORMAL</td>\n",
       "      <td>HIGH</td>\n",
       "      <td>9.894</td>\n",
       "      <td>drugX</td>\n",
       "    </tr>\n",
       "    <tr>\n",
       "      <th>198</th>\n",
       "      <td>23</td>\n",
       "      <td>M</td>\n",
       "      <td>NORMAL</td>\n",
       "      <td>NORMAL</td>\n",
       "      <td>14.020</td>\n",
       "      <td>drugX</td>\n",
       "    </tr>\n",
       "    <tr>\n",
       "      <th>199</th>\n",
       "      <td>40</td>\n",
       "      <td>F</td>\n",
       "      <td>LOW</td>\n",
       "      <td>NORMAL</td>\n",
       "      <td>11.349</td>\n",
       "      <td>drugX</td>\n",
       "    </tr>\n",
       "  </tbody>\n",
       "</table>\n",
       "<p>200 rows × 6 columns</p>\n",
       "</div>"
      ],
      "text/plain": [
       "     Age Sex      BP Cholesterol  Na_to_K   Drug\n",
       "0     23   F    HIGH        HIGH   25.355  DrugY\n",
       "1     47   M     LOW        HIGH   13.093  drugC\n",
       "2     47   M     LOW        HIGH   10.114  drugC\n",
       "3     28   F  NORMAL        HIGH    7.798  drugX\n",
       "4     61   F     LOW        HIGH   18.043  DrugY\n",
       "..   ...  ..     ...         ...      ...    ...\n",
       "195   56   F     LOW        HIGH   11.567  drugC\n",
       "196   16   M     LOW        HIGH   12.006  drugC\n",
       "197   52   M  NORMAL        HIGH    9.894  drugX\n",
       "198   23   M  NORMAL      NORMAL   14.020  drugX\n",
       "199   40   F     LOW      NORMAL   11.349  drugX\n",
       "\n",
       "[200 rows x 6 columns]"
      ]
     },
     "execution_count": 3,
     "metadata": {},
     "output_type": "execute_result"
    }
   ],
   "source": [
    "df"
   ]
  },
  {
   "cell_type": "code",
   "execution_count": 4,
   "id": "ab508f91",
   "metadata": {
    "execution": {
     "iopub.execute_input": "2022-12-09T06:38:12.858558Z",
     "iopub.status.busy": "2022-12-09T06:38:12.858040Z",
     "iopub.status.idle": "2022-12-09T06:38:12.880902Z",
     "shell.execute_reply": "2022-12-09T06:38:12.879370Z"
    },
    "papermill": {
     "duration": 0.037707,
     "end_time": "2022-12-09T06:38:12.883570",
     "exception": false,
     "start_time": "2022-12-09T06:38:12.845863",
     "status": "completed"
    },
    "tags": []
   },
   "outputs": [],
   "source": [
    "y=df[['Drug']]"
   ]
  },
  {
   "cell_type": "code",
   "execution_count": 5,
   "id": "c239fdd1",
   "metadata": {
    "execution": {
     "iopub.execute_input": "2022-12-09T06:38:12.907260Z",
     "iopub.status.busy": "2022-12-09T06:38:12.906778Z",
     "iopub.status.idle": "2022-12-09T06:38:12.921252Z",
     "shell.execute_reply": "2022-12-09T06:38:12.919679Z"
    },
    "papermill": {
     "duration": 0.030231,
     "end_time": "2022-12-09T06:38:12.924201",
     "exception": false,
     "start_time": "2022-12-09T06:38:12.893970",
     "status": "completed"
    },
    "tags": []
   },
   "outputs": [
    {
     "data": {
      "text/html": [
       "<div>\n",
       "<style scoped>\n",
       "    .dataframe tbody tr th:only-of-type {\n",
       "        vertical-align: middle;\n",
       "    }\n",
       "\n",
       "    .dataframe tbody tr th {\n",
       "        vertical-align: top;\n",
       "    }\n",
       "\n",
       "    .dataframe thead th {\n",
       "        text-align: right;\n",
       "    }\n",
       "</style>\n",
       "<table border=\"1\" class=\"dataframe\">\n",
       "  <thead>\n",
       "    <tr style=\"text-align: right;\">\n",
       "      <th></th>\n",
       "      <th>Drug</th>\n",
       "    </tr>\n",
       "  </thead>\n",
       "  <tbody>\n",
       "    <tr>\n",
       "      <th>0</th>\n",
       "      <td>DrugY</td>\n",
       "    </tr>\n",
       "    <tr>\n",
       "      <th>1</th>\n",
       "      <td>drugC</td>\n",
       "    </tr>\n",
       "    <tr>\n",
       "      <th>2</th>\n",
       "      <td>drugC</td>\n",
       "    </tr>\n",
       "    <tr>\n",
       "      <th>3</th>\n",
       "      <td>drugX</td>\n",
       "    </tr>\n",
       "    <tr>\n",
       "      <th>4</th>\n",
       "      <td>DrugY</td>\n",
       "    </tr>\n",
       "    <tr>\n",
       "      <th>...</th>\n",
       "      <td>...</td>\n",
       "    </tr>\n",
       "    <tr>\n",
       "      <th>195</th>\n",
       "      <td>drugC</td>\n",
       "    </tr>\n",
       "    <tr>\n",
       "      <th>196</th>\n",
       "      <td>drugC</td>\n",
       "    </tr>\n",
       "    <tr>\n",
       "      <th>197</th>\n",
       "      <td>drugX</td>\n",
       "    </tr>\n",
       "    <tr>\n",
       "      <th>198</th>\n",
       "      <td>drugX</td>\n",
       "    </tr>\n",
       "    <tr>\n",
       "      <th>199</th>\n",
       "      <td>drugX</td>\n",
       "    </tr>\n",
       "  </tbody>\n",
       "</table>\n",
       "<p>200 rows × 1 columns</p>\n",
       "</div>"
      ],
      "text/plain": [
       "      Drug\n",
       "0    DrugY\n",
       "1    drugC\n",
       "2    drugC\n",
       "3    drugX\n",
       "4    DrugY\n",
       "..     ...\n",
       "195  drugC\n",
       "196  drugC\n",
       "197  drugX\n",
       "198  drugX\n",
       "199  drugX\n",
       "\n",
       "[200 rows x 1 columns]"
      ]
     },
     "execution_count": 5,
     "metadata": {},
     "output_type": "execute_result"
    }
   ],
   "source": [
    "y"
   ]
  },
  {
   "cell_type": "code",
   "execution_count": 6,
   "id": "de96bff0",
   "metadata": {
    "execution": {
     "iopub.execute_input": "2022-12-09T06:38:12.948242Z",
     "iopub.status.busy": "2022-12-09T06:38:12.947420Z",
     "iopub.status.idle": "2022-12-09T06:38:12.969297Z",
     "shell.execute_reply": "2022-12-09T06:38:12.968061Z"
    },
    "papermill": {
     "duration": 0.037428,
     "end_time": "2022-12-09T06:38:12.972451",
     "exception": false,
     "start_time": "2022-12-09T06:38:12.935023",
     "status": "completed"
    },
    "tags": []
   },
   "outputs": [],
   "source": [
    "df=pd.get_dummies(df.drop(labels=['Drug'],axis=1))"
   ]
  },
  {
   "cell_type": "code",
   "execution_count": 7,
   "id": "3dc650e4",
   "metadata": {
    "execution": {
     "iopub.execute_input": "2022-12-09T06:38:12.996005Z",
     "iopub.status.busy": "2022-12-09T06:38:12.995508Z",
     "iopub.status.idle": "2022-12-09T06:38:13.015920Z",
     "shell.execute_reply": "2022-12-09T06:38:13.014604Z"
    },
    "papermill": {
     "duration": 0.035338,
     "end_time": "2022-12-09T06:38:13.018793",
     "exception": false,
     "start_time": "2022-12-09T06:38:12.983455",
     "status": "completed"
    },
    "tags": []
   },
   "outputs": [
    {
     "data": {
      "text/html": [
       "<div>\n",
       "<style scoped>\n",
       "    .dataframe tbody tr th:only-of-type {\n",
       "        vertical-align: middle;\n",
       "    }\n",
       "\n",
       "    .dataframe tbody tr th {\n",
       "        vertical-align: top;\n",
       "    }\n",
       "\n",
       "    .dataframe thead th {\n",
       "        text-align: right;\n",
       "    }\n",
       "</style>\n",
       "<table border=\"1\" class=\"dataframe\">\n",
       "  <thead>\n",
       "    <tr style=\"text-align: right;\">\n",
       "      <th></th>\n",
       "      <th>Age</th>\n",
       "      <th>Na_to_K</th>\n",
       "      <th>Sex_F</th>\n",
       "      <th>Sex_M</th>\n",
       "      <th>BP_HIGH</th>\n",
       "      <th>BP_LOW</th>\n",
       "      <th>BP_NORMAL</th>\n",
       "      <th>Cholesterol_HIGH</th>\n",
       "      <th>Cholesterol_NORMAL</th>\n",
       "    </tr>\n",
       "  </thead>\n",
       "  <tbody>\n",
       "    <tr>\n",
       "      <th>0</th>\n",
       "      <td>23</td>\n",
       "      <td>25.355</td>\n",
       "      <td>1</td>\n",
       "      <td>0</td>\n",
       "      <td>1</td>\n",
       "      <td>0</td>\n",
       "      <td>0</td>\n",
       "      <td>1</td>\n",
       "      <td>0</td>\n",
       "    </tr>\n",
       "    <tr>\n",
       "      <th>1</th>\n",
       "      <td>47</td>\n",
       "      <td>13.093</td>\n",
       "      <td>0</td>\n",
       "      <td>1</td>\n",
       "      <td>0</td>\n",
       "      <td>1</td>\n",
       "      <td>0</td>\n",
       "      <td>1</td>\n",
       "      <td>0</td>\n",
       "    </tr>\n",
       "    <tr>\n",
       "      <th>2</th>\n",
       "      <td>47</td>\n",
       "      <td>10.114</td>\n",
       "      <td>0</td>\n",
       "      <td>1</td>\n",
       "      <td>0</td>\n",
       "      <td>1</td>\n",
       "      <td>0</td>\n",
       "      <td>1</td>\n",
       "      <td>0</td>\n",
       "    </tr>\n",
       "    <tr>\n",
       "      <th>3</th>\n",
       "      <td>28</td>\n",
       "      <td>7.798</td>\n",
       "      <td>1</td>\n",
       "      <td>0</td>\n",
       "      <td>0</td>\n",
       "      <td>0</td>\n",
       "      <td>1</td>\n",
       "      <td>1</td>\n",
       "      <td>0</td>\n",
       "    </tr>\n",
       "    <tr>\n",
       "      <th>4</th>\n",
       "      <td>61</td>\n",
       "      <td>18.043</td>\n",
       "      <td>1</td>\n",
       "      <td>0</td>\n",
       "      <td>0</td>\n",
       "      <td>1</td>\n",
       "      <td>0</td>\n",
       "      <td>1</td>\n",
       "      <td>0</td>\n",
       "    </tr>\n",
       "    <tr>\n",
       "      <th>...</th>\n",
       "      <td>...</td>\n",
       "      <td>...</td>\n",
       "      <td>...</td>\n",
       "      <td>...</td>\n",
       "      <td>...</td>\n",
       "      <td>...</td>\n",
       "      <td>...</td>\n",
       "      <td>...</td>\n",
       "      <td>...</td>\n",
       "    </tr>\n",
       "    <tr>\n",
       "      <th>195</th>\n",
       "      <td>56</td>\n",
       "      <td>11.567</td>\n",
       "      <td>1</td>\n",
       "      <td>0</td>\n",
       "      <td>0</td>\n",
       "      <td>1</td>\n",
       "      <td>0</td>\n",
       "      <td>1</td>\n",
       "      <td>0</td>\n",
       "    </tr>\n",
       "    <tr>\n",
       "      <th>196</th>\n",
       "      <td>16</td>\n",
       "      <td>12.006</td>\n",
       "      <td>0</td>\n",
       "      <td>1</td>\n",
       "      <td>0</td>\n",
       "      <td>1</td>\n",
       "      <td>0</td>\n",
       "      <td>1</td>\n",
       "      <td>0</td>\n",
       "    </tr>\n",
       "    <tr>\n",
       "      <th>197</th>\n",
       "      <td>52</td>\n",
       "      <td>9.894</td>\n",
       "      <td>0</td>\n",
       "      <td>1</td>\n",
       "      <td>0</td>\n",
       "      <td>0</td>\n",
       "      <td>1</td>\n",
       "      <td>1</td>\n",
       "      <td>0</td>\n",
       "    </tr>\n",
       "    <tr>\n",
       "      <th>198</th>\n",
       "      <td>23</td>\n",
       "      <td>14.020</td>\n",
       "      <td>0</td>\n",
       "      <td>1</td>\n",
       "      <td>0</td>\n",
       "      <td>0</td>\n",
       "      <td>1</td>\n",
       "      <td>0</td>\n",
       "      <td>1</td>\n",
       "    </tr>\n",
       "    <tr>\n",
       "      <th>199</th>\n",
       "      <td>40</td>\n",
       "      <td>11.349</td>\n",
       "      <td>1</td>\n",
       "      <td>0</td>\n",
       "      <td>0</td>\n",
       "      <td>1</td>\n",
       "      <td>0</td>\n",
       "      <td>0</td>\n",
       "      <td>1</td>\n",
       "    </tr>\n",
       "  </tbody>\n",
       "</table>\n",
       "<p>200 rows × 9 columns</p>\n",
       "</div>"
      ],
      "text/plain": [
       "     Age  Na_to_K  Sex_F  Sex_M  BP_HIGH  BP_LOW  BP_NORMAL  Cholesterol_HIGH  \\\n",
       "0     23   25.355      1      0        1       0          0                 1   \n",
       "1     47   13.093      0      1        0       1          0                 1   \n",
       "2     47   10.114      0      1        0       1          0                 1   \n",
       "3     28    7.798      1      0        0       0          1                 1   \n",
       "4     61   18.043      1      0        0       1          0                 1   \n",
       "..   ...      ...    ...    ...      ...     ...        ...               ...   \n",
       "195   56   11.567      1      0        0       1          0                 1   \n",
       "196   16   12.006      0      1        0       1          0                 1   \n",
       "197   52    9.894      0      1        0       0          1                 1   \n",
       "198   23   14.020      0      1        0       0          1                 0   \n",
       "199   40   11.349      1      0        0       1          0                 0   \n",
       "\n",
       "     Cholesterol_NORMAL  \n",
       "0                     0  \n",
       "1                     0  \n",
       "2                     0  \n",
       "3                     0  \n",
       "4                     0  \n",
       "..                  ...  \n",
       "195                   0  \n",
       "196                   0  \n",
       "197                   0  \n",
       "198                   1  \n",
       "199                   1  \n",
       "\n",
       "[200 rows x 9 columns]"
      ]
     },
     "execution_count": 7,
     "metadata": {},
     "output_type": "execute_result"
    }
   ],
   "source": [
    "df"
   ]
  },
  {
   "cell_type": "code",
   "execution_count": 8,
   "id": "c697a601",
   "metadata": {
    "execution": {
     "iopub.execute_input": "2022-12-09T06:38:13.042348Z",
     "iopub.status.busy": "2022-12-09T06:38:13.041841Z",
     "iopub.status.idle": "2022-12-09T06:38:13.049963Z",
     "shell.execute_reply": "2022-12-09T06:38:13.048741Z"
    },
    "papermill": {
     "duration": 0.022977,
     "end_time": "2022-12-09T06:38:13.052746",
     "exception": false,
     "start_time": "2022-12-09T06:38:13.029769",
     "status": "completed"
    },
    "tags": []
   },
   "outputs": [],
   "source": [
    "df=df.drop(labels=['Sex_F','BP_LOW','Cholesterol_HIGH'],axis=1)"
   ]
  },
  {
   "cell_type": "code",
   "execution_count": 9,
   "id": "2e72a3ef",
   "metadata": {
    "execution": {
     "iopub.execute_input": "2022-12-09T06:38:13.076900Z",
     "iopub.status.busy": "2022-12-09T06:38:13.076423Z",
     "iopub.status.idle": "2022-12-09T06:38:13.093968Z",
     "shell.execute_reply": "2022-12-09T06:38:13.092394Z"
    },
    "papermill": {
     "duration": 0.032782,
     "end_time": "2022-12-09T06:38:13.096642",
     "exception": false,
     "start_time": "2022-12-09T06:38:13.063860",
     "status": "completed"
    },
    "tags": []
   },
   "outputs": [
    {
     "data": {
      "text/html": [
       "<div>\n",
       "<style scoped>\n",
       "    .dataframe tbody tr th:only-of-type {\n",
       "        vertical-align: middle;\n",
       "    }\n",
       "\n",
       "    .dataframe tbody tr th {\n",
       "        vertical-align: top;\n",
       "    }\n",
       "\n",
       "    .dataframe thead th {\n",
       "        text-align: right;\n",
       "    }\n",
       "</style>\n",
       "<table border=\"1\" class=\"dataframe\">\n",
       "  <thead>\n",
       "    <tr style=\"text-align: right;\">\n",
       "      <th></th>\n",
       "      <th>Age</th>\n",
       "      <th>Na_to_K</th>\n",
       "      <th>Sex_M</th>\n",
       "      <th>BP_HIGH</th>\n",
       "      <th>BP_NORMAL</th>\n",
       "      <th>Cholesterol_NORMAL</th>\n",
       "    </tr>\n",
       "  </thead>\n",
       "  <tbody>\n",
       "    <tr>\n",
       "      <th>0</th>\n",
       "      <td>23</td>\n",
       "      <td>25.355</td>\n",
       "      <td>0</td>\n",
       "      <td>1</td>\n",
       "      <td>0</td>\n",
       "      <td>0</td>\n",
       "    </tr>\n",
       "    <tr>\n",
       "      <th>1</th>\n",
       "      <td>47</td>\n",
       "      <td>13.093</td>\n",
       "      <td>1</td>\n",
       "      <td>0</td>\n",
       "      <td>0</td>\n",
       "      <td>0</td>\n",
       "    </tr>\n",
       "    <tr>\n",
       "      <th>2</th>\n",
       "      <td>47</td>\n",
       "      <td>10.114</td>\n",
       "      <td>1</td>\n",
       "      <td>0</td>\n",
       "      <td>0</td>\n",
       "      <td>0</td>\n",
       "    </tr>\n",
       "    <tr>\n",
       "      <th>3</th>\n",
       "      <td>28</td>\n",
       "      <td>7.798</td>\n",
       "      <td>0</td>\n",
       "      <td>0</td>\n",
       "      <td>1</td>\n",
       "      <td>0</td>\n",
       "    </tr>\n",
       "    <tr>\n",
       "      <th>4</th>\n",
       "      <td>61</td>\n",
       "      <td>18.043</td>\n",
       "      <td>0</td>\n",
       "      <td>0</td>\n",
       "      <td>0</td>\n",
       "      <td>0</td>\n",
       "    </tr>\n",
       "    <tr>\n",
       "      <th>...</th>\n",
       "      <td>...</td>\n",
       "      <td>...</td>\n",
       "      <td>...</td>\n",
       "      <td>...</td>\n",
       "      <td>...</td>\n",
       "      <td>...</td>\n",
       "    </tr>\n",
       "    <tr>\n",
       "      <th>195</th>\n",
       "      <td>56</td>\n",
       "      <td>11.567</td>\n",
       "      <td>0</td>\n",
       "      <td>0</td>\n",
       "      <td>0</td>\n",
       "      <td>0</td>\n",
       "    </tr>\n",
       "    <tr>\n",
       "      <th>196</th>\n",
       "      <td>16</td>\n",
       "      <td>12.006</td>\n",
       "      <td>1</td>\n",
       "      <td>0</td>\n",
       "      <td>0</td>\n",
       "      <td>0</td>\n",
       "    </tr>\n",
       "    <tr>\n",
       "      <th>197</th>\n",
       "      <td>52</td>\n",
       "      <td>9.894</td>\n",
       "      <td>1</td>\n",
       "      <td>0</td>\n",
       "      <td>1</td>\n",
       "      <td>0</td>\n",
       "    </tr>\n",
       "    <tr>\n",
       "      <th>198</th>\n",
       "      <td>23</td>\n",
       "      <td>14.020</td>\n",
       "      <td>1</td>\n",
       "      <td>0</td>\n",
       "      <td>1</td>\n",
       "      <td>1</td>\n",
       "    </tr>\n",
       "    <tr>\n",
       "      <th>199</th>\n",
       "      <td>40</td>\n",
       "      <td>11.349</td>\n",
       "      <td>0</td>\n",
       "      <td>0</td>\n",
       "      <td>0</td>\n",
       "      <td>1</td>\n",
       "    </tr>\n",
       "  </tbody>\n",
       "</table>\n",
       "<p>200 rows × 6 columns</p>\n",
       "</div>"
      ],
      "text/plain": [
       "     Age  Na_to_K  Sex_M  BP_HIGH  BP_NORMAL  Cholesterol_NORMAL\n",
       "0     23   25.355      0        1          0                   0\n",
       "1     47   13.093      1        0          0                   0\n",
       "2     47   10.114      1        0          0                   0\n",
       "3     28    7.798      0        0          1                   0\n",
       "4     61   18.043      0        0          0                   0\n",
       "..   ...      ...    ...      ...        ...                 ...\n",
       "195   56   11.567      0        0          0                   0\n",
       "196   16   12.006      1        0          0                   0\n",
       "197   52    9.894      1        0          1                   0\n",
       "198   23   14.020      1        0          1                   1\n",
       "199   40   11.349      0        0          0                   1\n",
       "\n",
       "[200 rows x 6 columns]"
      ]
     },
     "execution_count": 9,
     "metadata": {},
     "output_type": "execute_result"
    }
   ],
   "source": [
    "df"
   ]
  },
  {
   "cell_type": "code",
   "execution_count": 10,
   "id": "c4db8862",
   "metadata": {
    "execution": {
     "iopub.execute_input": "2022-12-09T06:38:13.122655Z",
     "iopub.status.busy": "2022-12-09T06:38:13.122113Z",
     "iopub.status.idle": "2022-12-09T06:38:13.130502Z",
     "shell.execute_reply": "2022-12-09T06:38:13.129348Z"
    },
    "papermill": {
     "duration": 0.025058,
     "end_time": "2022-12-09T06:38:13.133145",
     "exception": false,
     "start_time": "2022-12-09T06:38:13.108087",
     "status": "completed"
    },
    "tags": []
   },
   "outputs": [
    {
     "data": {
      "text/plain": [
       "\"for i in range(len(y)):\\n    if y['Drug'][i]=='drugX':\\n        y['Drug'][i]=0\\n    elif y['Drug'][i]=='drugA':\\n        y['Drug'][i]=1\\n    elif y['Drug'][i]=='drugC':\\n        y['Drug'][i]=2\\n    elif y['Drug'][i]=='drugB':\\n        y['Drug'][i]=3\\n    elif y['Drug'][i]=='DrugY':\\n        y['Drug'][i]=4 \""
      ]
     },
     "execution_count": 10,
     "metadata": {},
     "output_type": "execute_result"
    }
   ],
   "source": [
    "'''for i in range(len(y)):\n",
    "    if y['Drug'][i]=='drugX':\n",
    "        y['Drug'][i]=0\n",
    "    elif y['Drug'][i]=='drugA':\n",
    "        y['Drug'][i]=1\n",
    "    elif y['Drug'][i]=='drugC':\n",
    "        y['Drug'][i]=2\n",
    "    elif y['Drug'][i]=='drugB':\n",
    "        y['Drug'][i]=3\n",
    "    elif y['Drug'][i]=='DrugY':\n",
    "        y['Drug'][i]=4 '''"
   ]
  },
  {
   "cell_type": "code",
   "execution_count": 11,
   "id": "074d6b5e",
   "metadata": {
    "execution": {
     "iopub.execute_input": "2022-12-09T06:38:13.157599Z",
     "iopub.status.busy": "2022-12-09T06:38:13.157099Z",
     "iopub.status.idle": "2022-12-09T06:38:13.166521Z",
     "shell.execute_reply": "2022-12-09T06:38:13.165061Z"
    },
    "papermill": {
     "duration": 0.024804,
     "end_time": "2022-12-09T06:38:13.169049",
     "exception": false,
     "start_time": "2022-12-09T06:38:13.144245",
     "status": "completed"
    },
    "tags": []
   },
   "outputs": [],
   "source": [
    "y=pd.get_dummies(y)"
   ]
  },
  {
   "cell_type": "code",
   "execution_count": 12,
   "id": "0dc269d9",
   "metadata": {
    "execution": {
     "iopub.execute_input": "2022-12-09T06:38:13.193115Z",
     "iopub.status.busy": "2022-12-09T06:38:13.192637Z",
     "iopub.status.idle": "2022-12-09T06:38:13.207884Z",
     "shell.execute_reply": "2022-12-09T06:38:13.206894Z"
    },
    "papermill": {
     "duration": 0.030523,
     "end_time": "2022-12-09T06:38:13.210559",
     "exception": false,
     "start_time": "2022-12-09T06:38:13.180036",
     "status": "completed"
    },
    "tags": []
   },
   "outputs": [
    {
     "data": {
      "text/html": [
       "<div>\n",
       "<style scoped>\n",
       "    .dataframe tbody tr th:only-of-type {\n",
       "        vertical-align: middle;\n",
       "    }\n",
       "\n",
       "    .dataframe tbody tr th {\n",
       "        vertical-align: top;\n",
       "    }\n",
       "\n",
       "    .dataframe thead th {\n",
       "        text-align: right;\n",
       "    }\n",
       "</style>\n",
       "<table border=\"1\" class=\"dataframe\">\n",
       "  <thead>\n",
       "    <tr style=\"text-align: right;\">\n",
       "      <th></th>\n",
       "      <th>Drug_DrugY</th>\n",
       "      <th>Drug_drugA</th>\n",
       "      <th>Drug_drugB</th>\n",
       "      <th>Drug_drugC</th>\n",
       "      <th>Drug_drugX</th>\n",
       "    </tr>\n",
       "  </thead>\n",
       "  <tbody>\n",
       "    <tr>\n",
       "      <th>0</th>\n",
       "      <td>1</td>\n",
       "      <td>0</td>\n",
       "      <td>0</td>\n",
       "      <td>0</td>\n",
       "      <td>0</td>\n",
       "    </tr>\n",
       "    <tr>\n",
       "      <th>1</th>\n",
       "      <td>0</td>\n",
       "      <td>0</td>\n",
       "      <td>0</td>\n",
       "      <td>1</td>\n",
       "      <td>0</td>\n",
       "    </tr>\n",
       "    <tr>\n",
       "      <th>2</th>\n",
       "      <td>0</td>\n",
       "      <td>0</td>\n",
       "      <td>0</td>\n",
       "      <td>1</td>\n",
       "      <td>0</td>\n",
       "    </tr>\n",
       "    <tr>\n",
       "      <th>3</th>\n",
       "      <td>0</td>\n",
       "      <td>0</td>\n",
       "      <td>0</td>\n",
       "      <td>0</td>\n",
       "      <td>1</td>\n",
       "    </tr>\n",
       "    <tr>\n",
       "      <th>4</th>\n",
       "      <td>1</td>\n",
       "      <td>0</td>\n",
       "      <td>0</td>\n",
       "      <td>0</td>\n",
       "      <td>0</td>\n",
       "    </tr>\n",
       "    <tr>\n",
       "      <th>...</th>\n",
       "      <td>...</td>\n",
       "      <td>...</td>\n",
       "      <td>...</td>\n",
       "      <td>...</td>\n",
       "      <td>...</td>\n",
       "    </tr>\n",
       "    <tr>\n",
       "      <th>195</th>\n",
       "      <td>0</td>\n",
       "      <td>0</td>\n",
       "      <td>0</td>\n",
       "      <td>1</td>\n",
       "      <td>0</td>\n",
       "    </tr>\n",
       "    <tr>\n",
       "      <th>196</th>\n",
       "      <td>0</td>\n",
       "      <td>0</td>\n",
       "      <td>0</td>\n",
       "      <td>1</td>\n",
       "      <td>0</td>\n",
       "    </tr>\n",
       "    <tr>\n",
       "      <th>197</th>\n",
       "      <td>0</td>\n",
       "      <td>0</td>\n",
       "      <td>0</td>\n",
       "      <td>0</td>\n",
       "      <td>1</td>\n",
       "    </tr>\n",
       "    <tr>\n",
       "      <th>198</th>\n",
       "      <td>0</td>\n",
       "      <td>0</td>\n",
       "      <td>0</td>\n",
       "      <td>0</td>\n",
       "      <td>1</td>\n",
       "    </tr>\n",
       "    <tr>\n",
       "      <th>199</th>\n",
       "      <td>0</td>\n",
       "      <td>0</td>\n",
       "      <td>0</td>\n",
       "      <td>0</td>\n",
       "      <td>1</td>\n",
       "    </tr>\n",
       "  </tbody>\n",
       "</table>\n",
       "<p>200 rows × 5 columns</p>\n",
       "</div>"
      ],
      "text/plain": [
       "     Drug_DrugY  Drug_drugA  Drug_drugB  Drug_drugC  Drug_drugX\n",
       "0             1           0           0           0           0\n",
       "1             0           0           0           1           0\n",
       "2             0           0           0           1           0\n",
       "3             0           0           0           0           1\n",
       "4             1           0           0           0           0\n",
       "..          ...         ...         ...         ...         ...\n",
       "195           0           0           0           1           0\n",
       "196           0           0           0           1           0\n",
       "197           0           0           0           0           1\n",
       "198           0           0           0           0           1\n",
       "199           0           0           0           0           1\n",
       "\n",
       "[200 rows x 5 columns]"
      ]
     },
     "execution_count": 12,
     "metadata": {},
     "output_type": "execute_result"
    }
   ],
   "source": [
    "y"
   ]
  },
  {
   "cell_type": "code",
   "execution_count": 13,
   "id": "c5438f87",
   "metadata": {
    "execution": {
     "iopub.execute_input": "2022-12-09T06:38:13.237253Z",
     "iopub.status.busy": "2022-12-09T06:38:13.235387Z",
     "iopub.status.idle": "2022-12-09T06:38:19.468541Z",
     "shell.execute_reply": "2022-12-09T06:38:19.466588Z"
    },
    "papermill": {
     "duration": 6.249482,
     "end_time": "2022-12-09T06:38:19.471660",
     "exception": false,
     "start_time": "2022-12-09T06:38:13.222178",
     "status": "completed"
    },
    "tags": []
   },
   "outputs": [],
   "source": [
    "import tensorflow as tf"
   ]
  },
  {
   "cell_type": "code",
   "execution_count": 14,
   "id": "9cd5b044",
   "metadata": {
    "execution": {
     "iopub.execute_input": "2022-12-09T06:38:19.497971Z",
     "iopub.status.busy": "2022-12-09T06:38:19.496166Z",
     "iopub.status.idle": "2022-12-09T06:38:20.677432Z",
     "shell.execute_reply": "2022-12-09T06:38:20.676089Z"
    },
    "papermill": {
     "duration": 1.19762,
     "end_time": "2022-12-09T06:38:20.680748",
     "exception": false,
     "start_time": "2022-12-09T06:38:19.483128",
     "status": "completed"
    },
    "tags": []
   },
   "outputs": [],
   "source": [
    "from tensorflow.keras.models import Sequential\n",
    "from tensorflow.keras.layers import Dense\n",
    "from tensorflow.keras.layers import Dropout\n"
   ]
  },
  {
   "cell_type": "code",
   "execution_count": 15,
   "id": "65182576",
   "metadata": {
    "execution": {
     "iopub.execute_input": "2022-12-09T06:38:20.705932Z",
     "iopub.status.busy": "2022-12-09T06:38:20.705455Z",
     "iopub.status.idle": "2022-12-09T06:38:20.774152Z",
     "shell.execute_reply": "2022-12-09T06:38:20.772831Z"
    },
    "papermill": {
     "duration": 0.085755,
     "end_time": "2022-12-09T06:38:20.777985",
     "exception": false,
     "start_time": "2022-12-09T06:38:20.692230",
     "status": "completed"
    },
    "tags": []
   },
   "outputs": [
    {
     "name": "stderr",
     "output_type": "stream",
     "text": [
      "2022-12-09 06:38:20.749724: I tensorflow/core/common_runtime/process_util.cc:146] Creating new thread pool with default inter op setting: 2. Tune using inter_op_parallelism_threads for best performance.\n"
     ]
    }
   ],
   "source": [
    "model=Sequential()"
   ]
  },
  {
   "cell_type": "code",
   "execution_count": 16,
   "id": "9c7e00c3",
   "metadata": {
    "execution": {
     "iopub.execute_input": "2022-12-09T06:38:20.804648Z",
     "iopub.status.busy": "2022-12-09T06:38:20.803599Z",
     "iopub.status.idle": "2022-12-09T06:38:20.863803Z",
     "shell.execute_reply": "2022-12-09T06:38:20.862370Z"
    },
    "papermill": {
     "duration": 0.076684,
     "end_time": "2022-12-09T06:38:20.866779",
     "exception": false,
     "start_time": "2022-12-09T06:38:20.790095",
     "status": "completed"
    },
    "tags": []
   },
   "outputs": [],
   "source": [
    "model.add(Dense(300,input_shape=(6,),activation=tf.keras.activations.relu))"
   ]
  },
  {
   "cell_type": "code",
   "execution_count": 17,
   "id": "0b207e7e",
   "metadata": {
    "execution": {
     "iopub.execute_input": "2022-12-09T06:38:20.892328Z",
     "iopub.status.busy": "2022-12-09T06:38:20.891797Z",
     "iopub.status.idle": "2022-12-09T06:38:20.917561Z",
     "shell.execute_reply": "2022-12-09T06:38:20.916132Z"
    },
    "papermill": {
     "duration": 0.042352,
     "end_time": "2022-12-09T06:38:20.921062",
     "exception": false,
     "start_time": "2022-12-09T06:38:20.878710",
     "status": "completed"
    },
    "tags": []
   },
   "outputs": [],
   "source": [
    "model.add(Dense(200,activation=tf.keras.activations.tanh))\n",
    "model.add(Dropout(0.3))"
   ]
  },
  {
   "cell_type": "code",
   "execution_count": 18,
   "id": "5d3514dc",
   "metadata": {
    "execution": {
     "iopub.execute_input": "2022-12-09T06:38:20.946010Z",
     "iopub.status.busy": "2022-12-09T06:38:20.945496Z",
     "iopub.status.idle": "2022-12-09T06:38:21.223018Z",
     "shell.execute_reply": "2022-12-09T06:38:21.221719Z"
    },
    "papermill": {
     "duration": 0.293489,
     "end_time": "2022-12-09T06:38:21.226075",
     "exception": false,
     "start_time": "2022-12-09T06:38:20.932586",
     "status": "completed"
    },
    "tags": []
   },
   "outputs": [],
   "source": [
    "model.add(Dense(100,activation=tf.keras.activations.relu))\n",
    "model.add(Dropout(0.3))"
   ]
  },
  {
   "cell_type": "code",
   "execution_count": 19,
   "id": "8e464bee",
   "metadata": {
    "execution": {
     "iopub.execute_input": "2022-12-09T06:38:21.255697Z",
     "iopub.status.busy": "2022-12-09T06:38:21.255164Z",
     "iopub.status.idle": "2022-12-09T06:38:21.277188Z",
     "shell.execute_reply": "2022-12-09T06:38:21.275899Z"
    },
    "papermill": {
     "duration": 0.040222,
     "end_time": "2022-12-09T06:38:21.280291",
     "exception": false,
     "start_time": "2022-12-09T06:38:21.240069",
     "status": "completed"
    },
    "tags": []
   },
   "outputs": [],
   "source": [
    "model.add(Dense(50,activation=tf.keras.activations.tanh))\n",
    "model.add(Dropout(0.3))"
   ]
  },
  {
   "cell_type": "code",
   "execution_count": 20,
   "id": "828ae42f",
   "metadata": {
    "execution": {
     "iopub.execute_input": "2022-12-09T06:38:21.305905Z",
     "iopub.status.busy": "2022-12-09T06:38:21.305434Z",
     "iopub.status.idle": "2022-12-09T06:38:21.326043Z",
     "shell.execute_reply": "2022-12-09T06:38:21.324885Z"
    },
    "papermill": {
     "duration": 0.037257,
     "end_time": "2022-12-09T06:38:21.329001",
     "exception": false,
     "start_time": "2022-12-09T06:38:21.291744",
     "status": "completed"
    },
    "tags": []
   },
   "outputs": [],
   "source": [
    "model.add(Dense(10,activation=tf.keras.activations.relu))\n",
    "model.add(Dropout(0.3))"
   ]
  },
  {
   "cell_type": "code",
   "execution_count": 21,
   "id": "b8c8d148",
   "metadata": {
    "execution": {
     "iopub.execute_input": "2022-12-09T06:38:21.354987Z",
     "iopub.status.busy": "2022-12-09T06:38:21.353746Z",
     "iopub.status.idle": "2022-12-09T06:38:21.370937Z",
     "shell.execute_reply": "2022-12-09T06:38:21.369493Z"
    },
    "papermill": {
     "duration": 0.03316,
     "end_time": "2022-12-09T06:38:21.373965",
     "exception": false,
     "start_time": "2022-12-09T06:38:21.340805",
     "status": "completed"
    },
    "tags": []
   },
   "outputs": [],
   "source": [
    "model.add(Dense(5,activation=tf.keras.activations.softmax))"
   ]
  },
  {
   "cell_type": "code",
   "execution_count": 22,
   "id": "059cd01e",
   "metadata": {
    "execution": {
     "iopub.execute_input": "2022-12-09T06:38:21.399183Z",
     "iopub.status.busy": "2022-12-09T06:38:21.398674Z",
     "iopub.status.idle": "2022-12-09T06:38:21.415742Z",
     "shell.execute_reply": "2022-12-09T06:38:21.414455Z"
    },
    "papermill": {
     "duration": 0.03343,
     "end_time": "2022-12-09T06:38:21.418832",
     "exception": false,
     "start_time": "2022-12-09T06:38:21.385402",
     "status": "completed"
    },
    "tags": []
   },
   "outputs": [],
   "source": [
    "model.compile(optimizer='rmsprop',metrics=['accuracy'],loss='categorical_crossentropy')"
   ]
  },
  {
   "cell_type": "code",
   "execution_count": 23,
   "id": "6beb6120",
   "metadata": {
    "execution": {
     "iopub.execute_input": "2022-12-09T06:38:21.445150Z",
     "iopub.status.busy": "2022-12-09T06:38:21.443862Z",
     "iopub.status.idle": "2022-12-09T06:38:21.452014Z",
     "shell.execute_reply": "2022-12-09T06:38:21.450717Z"
    },
    "papermill": {
     "duration": 0.024148,
     "end_time": "2022-12-09T06:38:21.455026",
     "exception": false,
     "start_time": "2022-12-09T06:38:21.430878",
     "status": "completed"
    },
    "tags": []
   },
   "outputs": [
    {
     "name": "stdout",
     "output_type": "stream",
     "text": [
      "Model: \"sequential\"\n",
      "_________________________________________________________________\n",
      "Layer (type)                 Output Shape              Param #   \n",
      "=================================================================\n",
      "dense (Dense)                (None, 300)               2100      \n",
      "_________________________________________________________________\n",
      "dense_1 (Dense)              (None, 200)               60200     \n",
      "_________________________________________________________________\n",
      "dropout (Dropout)            (None, 200)               0         \n",
      "_________________________________________________________________\n",
      "dense_2 (Dense)              (None, 100)               20100     \n",
      "_________________________________________________________________\n",
      "dropout_1 (Dropout)          (None, 100)               0         \n",
      "_________________________________________________________________\n",
      "dense_3 (Dense)              (None, 50)                5050      \n",
      "_________________________________________________________________\n",
      "dropout_2 (Dropout)          (None, 50)                0         \n",
      "_________________________________________________________________\n",
      "dense_4 (Dense)              (None, 10)                510       \n",
      "_________________________________________________________________\n",
      "dropout_3 (Dropout)          (None, 10)                0         \n",
      "_________________________________________________________________\n",
      "dense_5 (Dense)              (None, 5)                 55        \n",
      "=================================================================\n",
      "Total params: 88,015\n",
      "Trainable params: 88,015\n",
      "Non-trainable params: 0\n",
      "_________________________________________________________________\n"
     ]
    }
   ],
   "source": [
    "model.summary()"
   ]
  },
  {
   "cell_type": "code",
   "execution_count": 24,
   "id": "27f01f60",
   "metadata": {
    "execution": {
     "iopub.execute_input": "2022-12-09T06:38:21.480025Z",
     "iopub.status.busy": "2022-12-09T06:38:21.479545Z",
     "iopub.status.idle": "2022-12-09T06:38:21.485214Z",
     "shell.execute_reply": "2022-12-09T06:38:21.483837Z"
    },
    "papermill": {
     "duration": 0.021241,
     "end_time": "2022-12-09T06:38:21.487863",
     "exception": false,
     "start_time": "2022-12-09T06:38:21.466622",
     "status": "completed"
    },
    "tags": []
   },
   "outputs": [],
   "source": [
    "# Preprocessing"
   ]
  },
  {
   "cell_type": "code",
   "execution_count": 25,
   "id": "a5e0ddb3",
   "metadata": {
    "execution": {
     "iopub.execute_input": "2022-12-09T06:38:21.513415Z",
     "iopub.status.busy": "2022-12-09T06:38:21.512466Z",
     "iopub.status.idle": "2022-12-09T06:38:22.249169Z",
     "shell.execute_reply": "2022-12-09T06:38:22.247479Z"
    },
    "papermill": {
     "duration": 0.752842,
     "end_time": "2022-12-09T06:38:22.252236",
     "exception": false,
     "start_time": "2022-12-09T06:38:21.499394",
     "status": "completed"
    },
    "tags": []
   },
   "outputs": [],
   "source": [
    "from sklearn.preprocessing import StandardScaler"
   ]
  },
  {
   "cell_type": "code",
   "execution_count": 26,
   "id": "4ff954c2",
   "metadata": {
    "execution": {
     "iopub.execute_input": "2022-12-09T06:38:22.278563Z",
     "iopub.status.busy": "2022-12-09T06:38:22.278046Z",
     "iopub.status.idle": "2022-12-09T06:38:22.285060Z",
     "shell.execute_reply": "2022-12-09T06:38:22.283372Z"
    },
    "papermill": {
     "duration": 0.024057,
     "end_time": "2022-12-09T06:38:22.287867",
     "exception": false,
     "start_time": "2022-12-09T06:38:22.263810",
     "status": "completed"
    },
    "tags": []
   },
   "outputs": [],
   "source": [
    "Sc=StandardScaler()"
   ]
  },
  {
   "cell_type": "code",
   "execution_count": 27,
   "id": "54e96252",
   "metadata": {
    "execution": {
     "iopub.execute_input": "2022-12-09T06:38:22.315665Z",
     "iopub.status.busy": "2022-12-09T06:38:22.315063Z",
     "iopub.status.idle": "2022-12-09T06:38:22.326192Z",
     "shell.execute_reply": "2022-12-09T06:38:22.325028Z"
    },
    "papermill": {
     "duration": 0.028389,
     "end_time": "2022-12-09T06:38:22.328940",
     "exception": false,
     "start_time": "2022-12-09T06:38:22.300551",
     "status": "completed"
    },
    "tags": []
   },
   "outputs": [],
   "source": [
    "df=Sc.fit_transform(df)"
   ]
  },
  {
   "cell_type": "code",
   "execution_count": 28,
   "id": "1caa3388",
   "metadata": {
    "execution": {
     "iopub.execute_input": "2022-12-09T06:38:22.355106Z",
     "iopub.status.busy": "2022-12-09T06:38:22.354609Z",
     "iopub.status.idle": "2022-12-09T06:38:22.369568Z",
     "shell.execute_reply": "2022-12-09T06:38:22.368115Z"
    },
    "papermill": {
     "duration": 0.031148,
     "end_time": "2022-12-09T06:38:22.372301",
     "exception": false,
     "start_time": "2022-12-09T06:38:22.341153",
     "status": "completed"
    },
    "tags": []
   },
   "outputs": [
    {
     "data": {
      "text/html": [
       "<div>\n",
       "<style scoped>\n",
       "    .dataframe tbody tr th:only-of-type {\n",
       "        vertical-align: middle;\n",
       "    }\n",
       "\n",
       "    .dataframe tbody tr th {\n",
       "        vertical-align: top;\n",
       "    }\n",
       "\n",
       "    .dataframe thead th {\n",
       "        text-align: right;\n",
       "    }\n",
       "</style>\n",
       "<table border=\"1\" class=\"dataframe\">\n",
       "  <thead>\n",
       "    <tr style=\"text-align: right;\">\n",
       "      <th></th>\n",
       "      <th>Drug_DrugY</th>\n",
       "      <th>Drug_drugA</th>\n",
       "      <th>Drug_drugB</th>\n",
       "      <th>Drug_drugC</th>\n",
       "      <th>Drug_drugX</th>\n",
       "    </tr>\n",
       "  </thead>\n",
       "  <tbody>\n",
       "    <tr>\n",
       "      <th>0</th>\n",
       "      <td>1</td>\n",
       "      <td>0</td>\n",
       "      <td>0</td>\n",
       "      <td>0</td>\n",
       "      <td>0</td>\n",
       "    </tr>\n",
       "    <tr>\n",
       "      <th>1</th>\n",
       "      <td>0</td>\n",
       "      <td>0</td>\n",
       "      <td>0</td>\n",
       "      <td>1</td>\n",
       "      <td>0</td>\n",
       "    </tr>\n",
       "    <tr>\n",
       "      <th>2</th>\n",
       "      <td>0</td>\n",
       "      <td>0</td>\n",
       "      <td>0</td>\n",
       "      <td>1</td>\n",
       "      <td>0</td>\n",
       "    </tr>\n",
       "    <tr>\n",
       "      <th>3</th>\n",
       "      <td>0</td>\n",
       "      <td>0</td>\n",
       "      <td>0</td>\n",
       "      <td>0</td>\n",
       "      <td>1</td>\n",
       "    </tr>\n",
       "    <tr>\n",
       "      <th>4</th>\n",
       "      <td>1</td>\n",
       "      <td>0</td>\n",
       "      <td>0</td>\n",
       "      <td>0</td>\n",
       "      <td>0</td>\n",
       "    </tr>\n",
       "    <tr>\n",
       "      <th>...</th>\n",
       "      <td>...</td>\n",
       "      <td>...</td>\n",
       "      <td>...</td>\n",
       "      <td>...</td>\n",
       "      <td>...</td>\n",
       "    </tr>\n",
       "    <tr>\n",
       "      <th>195</th>\n",
       "      <td>0</td>\n",
       "      <td>0</td>\n",
       "      <td>0</td>\n",
       "      <td>1</td>\n",
       "      <td>0</td>\n",
       "    </tr>\n",
       "    <tr>\n",
       "      <th>196</th>\n",
       "      <td>0</td>\n",
       "      <td>0</td>\n",
       "      <td>0</td>\n",
       "      <td>1</td>\n",
       "      <td>0</td>\n",
       "    </tr>\n",
       "    <tr>\n",
       "      <th>197</th>\n",
       "      <td>0</td>\n",
       "      <td>0</td>\n",
       "      <td>0</td>\n",
       "      <td>0</td>\n",
       "      <td>1</td>\n",
       "    </tr>\n",
       "    <tr>\n",
       "      <th>198</th>\n",
       "      <td>0</td>\n",
       "      <td>0</td>\n",
       "      <td>0</td>\n",
       "      <td>0</td>\n",
       "      <td>1</td>\n",
       "    </tr>\n",
       "    <tr>\n",
       "      <th>199</th>\n",
       "      <td>0</td>\n",
       "      <td>0</td>\n",
       "      <td>0</td>\n",
       "      <td>0</td>\n",
       "      <td>1</td>\n",
       "    </tr>\n",
       "  </tbody>\n",
       "</table>\n",
       "<p>200 rows × 5 columns</p>\n",
       "</div>"
      ],
      "text/plain": [
       "     Drug_DrugY  Drug_drugA  Drug_drugB  Drug_drugC  Drug_drugX\n",
       "0             1           0           0           0           0\n",
       "1             0           0           0           1           0\n",
       "2             0           0           0           1           0\n",
       "3             0           0           0           0           1\n",
       "4             1           0           0           0           0\n",
       "..          ...         ...         ...         ...         ...\n",
       "195           0           0           0           1           0\n",
       "196           0           0           0           1           0\n",
       "197           0           0           0           0           1\n",
       "198           0           0           0           0           1\n",
       "199           0           0           0           0           1\n",
       "\n",
       "[200 rows x 5 columns]"
      ]
     },
     "execution_count": 28,
     "metadata": {},
     "output_type": "execute_result"
    }
   ],
   "source": [
    "y"
   ]
  },
  {
   "cell_type": "code",
   "execution_count": 29,
   "id": "b33daa0f",
   "metadata": {
    "execution": {
     "iopub.execute_input": "2022-12-09T06:38:22.400836Z",
     "iopub.status.busy": "2022-12-09T06:38:22.399482Z",
     "iopub.status.idle": "2022-12-09T06:38:22.479260Z",
     "shell.execute_reply": "2022-12-09T06:38:22.477628Z"
    },
    "papermill": {
     "duration": 0.097861,
     "end_time": "2022-12-09T06:38:22.482598",
     "exception": false,
     "start_time": "2022-12-09T06:38:22.384737",
     "status": "completed"
    },
    "tags": []
   },
   "outputs": [],
   "source": [
    "from sklearn.model_selection import train_test_split"
   ]
  },
  {
   "cell_type": "code",
   "execution_count": 30,
   "id": "f67158f2",
   "metadata": {
    "execution": {
     "iopub.execute_input": "2022-12-09T06:38:22.508541Z",
     "iopub.status.busy": "2022-12-09T06:38:22.508001Z",
     "iopub.status.idle": "2022-12-09T06:38:22.516843Z",
     "shell.execute_reply": "2022-12-09T06:38:22.515524Z"
    },
    "papermill": {
     "duration": 0.026201,
     "end_time": "2022-12-09T06:38:22.520810",
     "exception": false,
     "start_time": "2022-12-09T06:38:22.494609",
     "status": "completed"
    },
    "tags": []
   },
   "outputs": [],
   "source": [
    "x_train,x_test,y_train,y_test=train_test_split(df,y,test_size=0.2,random_state=39)"
   ]
  },
  {
   "cell_type": "code",
   "execution_count": 31,
   "id": "e7971ebc",
   "metadata": {
    "execution": {
     "iopub.execute_input": "2022-12-09T06:38:22.547524Z",
     "iopub.status.busy": "2022-12-09T06:38:22.546947Z",
     "iopub.status.idle": "2022-12-09T06:38:22.564891Z",
     "shell.execute_reply": "2022-12-09T06:38:22.563504Z"
    },
    "papermill": {
     "duration": 0.034285,
     "end_time": "2022-12-09T06:38:22.567746",
     "exception": false,
     "start_time": "2022-12-09T06:38:22.533461",
     "status": "completed"
    },
    "tags": []
   },
   "outputs": [
    {
     "data": {
      "text/html": [
       "<div>\n",
       "<style scoped>\n",
       "    .dataframe tbody tr th:only-of-type {\n",
       "        vertical-align: middle;\n",
       "    }\n",
       "\n",
       "    .dataframe tbody tr th {\n",
       "        vertical-align: top;\n",
       "    }\n",
       "\n",
       "    .dataframe thead th {\n",
       "        text-align: right;\n",
       "    }\n",
       "</style>\n",
       "<table border=\"1\" class=\"dataframe\">\n",
       "  <thead>\n",
       "    <tr style=\"text-align: right;\">\n",
       "      <th></th>\n",
       "      <th>Drug_DrugY</th>\n",
       "      <th>Drug_drugA</th>\n",
       "      <th>Drug_drugB</th>\n",
       "      <th>Drug_drugC</th>\n",
       "      <th>Drug_drugX</th>\n",
       "    </tr>\n",
       "  </thead>\n",
       "  <tbody>\n",
       "    <tr>\n",
       "      <th>17</th>\n",
       "      <td>0</td>\n",
       "      <td>1</td>\n",
       "      <td>0</td>\n",
       "      <td>0</td>\n",
       "      <td>0</td>\n",
       "    </tr>\n",
       "    <tr>\n",
       "      <th>166</th>\n",
       "      <td>1</td>\n",
       "      <td>0</td>\n",
       "      <td>0</td>\n",
       "      <td>0</td>\n",
       "      <td>0</td>\n",
       "    </tr>\n",
       "    <tr>\n",
       "      <th>34</th>\n",
       "      <td>0</td>\n",
       "      <td>0</td>\n",
       "      <td>0</td>\n",
       "      <td>0</td>\n",
       "      <td>1</td>\n",
       "    </tr>\n",
       "    <tr>\n",
       "      <th>184</th>\n",
       "      <td>1</td>\n",
       "      <td>0</td>\n",
       "      <td>0</td>\n",
       "      <td>0</td>\n",
       "      <td>0</td>\n",
       "    </tr>\n",
       "    <tr>\n",
       "      <th>86</th>\n",
       "      <td>0</td>\n",
       "      <td>0</td>\n",
       "      <td>0</td>\n",
       "      <td>0</td>\n",
       "      <td>1</td>\n",
       "    </tr>\n",
       "    <tr>\n",
       "      <th>...</th>\n",
       "      <td>...</td>\n",
       "      <td>...</td>\n",
       "      <td>...</td>\n",
       "      <td>...</td>\n",
       "      <td>...</td>\n",
       "    </tr>\n",
       "    <tr>\n",
       "      <th>148</th>\n",
       "      <td>0</td>\n",
       "      <td>0</td>\n",
       "      <td>0</td>\n",
       "      <td>0</td>\n",
       "      <td>1</td>\n",
       "    </tr>\n",
       "    <tr>\n",
       "      <th>64</th>\n",
       "      <td>0</td>\n",
       "      <td>0</td>\n",
       "      <td>1</td>\n",
       "      <td>0</td>\n",
       "      <td>0</td>\n",
       "    </tr>\n",
       "    <tr>\n",
       "      <th>41</th>\n",
       "      <td>0</td>\n",
       "      <td>0</td>\n",
       "      <td>1</td>\n",
       "      <td>0</td>\n",
       "      <td>0</td>\n",
       "    </tr>\n",
       "    <tr>\n",
       "      <th>105</th>\n",
       "      <td>0</td>\n",
       "      <td>0</td>\n",
       "      <td>0</td>\n",
       "      <td>0</td>\n",
       "      <td>1</td>\n",
       "    </tr>\n",
       "    <tr>\n",
       "      <th>137</th>\n",
       "      <td>0</td>\n",
       "      <td>1</td>\n",
       "      <td>0</td>\n",
       "      <td>0</td>\n",
       "      <td>0</td>\n",
       "    </tr>\n",
       "  </tbody>\n",
       "</table>\n",
       "<p>160 rows × 5 columns</p>\n",
       "</div>"
      ],
      "text/plain": [
       "     Drug_DrugY  Drug_drugA  Drug_drugB  Drug_drugC  Drug_drugX\n",
       "17            0           1           0           0           0\n",
       "166           1           0           0           0           0\n",
       "34            0           0           0           0           1\n",
       "184           1           0           0           0           0\n",
       "86            0           0           0           0           1\n",
       "..          ...         ...         ...         ...         ...\n",
       "148           0           0           0           0           1\n",
       "64            0           0           1           0           0\n",
       "41            0           0           1           0           0\n",
       "105           0           0           0           0           1\n",
       "137           0           1           0           0           0\n",
       "\n",
       "[160 rows x 5 columns]"
      ]
     },
     "execution_count": 31,
     "metadata": {},
     "output_type": "execute_result"
    }
   ],
   "source": [
    "y_train"
   ]
  },
  {
   "cell_type": "code",
   "execution_count": 32,
   "id": "87e5e4a0",
   "metadata": {
    "execution": {
     "iopub.execute_input": "2022-12-09T06:38:22.595870Z",
     "iopub.status.busy": "2022-12-09T06:38:22.595360Z",
     "iopub.status.idle": "2022-12-09T06:38:22.601651Z",
     "shell.execute_reply": "2022-12-09T06:38:22.600363Z"
    },
    "papermill": {
     "duration": 0.023684,
     "end_time": "2022-12-09T06:38:22.604402",
     "exception": false,
     "start_time": "2022-12-09T06:38:22.580718",
     "status": "completed"
    },
    "tags": []
   },
   "outputs": [],
   "source": [
    "early_stopping=tf.keras.callbacks.EarlyStopping(\n",
    "    monitor=\"val_loss\",\n",
    "    min_delta=0.01,\n",
    "    patience=20,\n",
    "    verbose=1,\n",
    "    mode=\"auto\",\n",
    "    baseline=None,\n",
    "    restore_best_weights=False,\n",
    ")"
   ]
  },
  {
   "cell_type": "code",
   "execution_count": 33,
   "id": "ba9959b1",
   "metadata": {
    "execution": {
     "iopub.execute_input": "2022-12-09T06:38:22.632970Z",
     "iopub.status.busy": "2022-12-09T06:38:22.632477Z",
     "iopub.status.idle": "2022-12-09T06:38:31.134967Z",
     "shell.execute_reply": "2022-12-09T06:38:31.133017Z"
    },
    "papermill": {
     "duration": 8.520418,
     "end_time": "2022-12-09T06:38:31.138079",
     "exception": false,
     "start_time": "2022-12-09T06:38:22.617661",
     "status": "completed"
    },
    "tags": []
   },
   "outputs": [
    {
     "name": "stderr",
     "output_type": "stream",
     "text": [
      "2022-12-09 06:38:22.738832: I tensorflow/compiler/mlir/mlir_graph_optimization_pass.cc:185] None of the MLIR Optimization Passes are enabled (registered 2)\n"
     ]
    },
    {
     "name": "stdout",
     "output_type": "stream",
     "text": [
      "Epoch 1/350\n",
      "4/4 [==============================] - 2s 121ms/step - loss: 1.5086 - accuracy: 0.1797 - val_loss: 1.3838 - val_accuracy: 0.4062\n",
      "Epoch 2/350\n",
      "4/4 [==============================] - 0s 21ms/step - loss: 1.3007 - accuracy: 0.3516 - val_loss: 1.2183 - val_accuracy: 0.6562\n",
      "Epoch 3/350\n",
      "4/4 [==============================] - 0s 24ms/step - loss: 1.1531 - accuracy: 0.4844 - val_loss: 1.0699 - val_accuracy: 0.7500\n",
      "Epoch 4/350\n",
      "4/4 [==============================] - 0s 20ms/step - loss: 1.0584 - accuracy: 0.5234 - val_loss: 0.9461 - val_accuracy: 0.7812\n",
      "Epoch 5/350\n",
      "4/4 [==============================] - 0s 20ms/step - loss: 0.9247 - accuracy: 0.6484 - val_loss: 0.8558 - val_accuracy: 0.8125\n",
      "Epoch 6/350\n",
      "4/4 [==============================] - 0s 20ms/step - loss: 0.8957 - accuracy: 0.6641 - val_loss: 0.8115 - val_accuracy: 0.7500\n",
      "Epoch 7/350\n",
      "4/4 [==============================] - 0s 19ms/step - loss: 0.8035 - accuracy: 0.6875 - val_loss: 0.6995 - val_accuracy: 0.8750\n",
      "Epoch 8/350\n",
      "4/4 [==============================] - 0s 19ms/step - loss: 0.7895 - accuracy: 0.7031 - val_loss: 0.7015 - val_accuracy: 0.7812\n",
      "Epoch 9/350\n",
      "4/4 [==============================] - 0s 19ms/step - loss: 0.6928 - accuracy: 0.7344 - val_loss: 0.6395 - val_accuracy: 0.7812\n",
      "Epoch 10/350\n",
      "4/4 [==============================] - 0s 20ms/step - loss: 0.6642 - accuracy: 0.7578 - val_loss: 0.6580 - val_accuracy: 0.7812\n",
      "Epoch 11/350\n",
      "4/4 [==============================] - 0s 21ms/step - loss: 0.6740 - accuracy: 0.7578 - val_loss: 0.4860 - val_accuracy: 0.9062\n",
      "Epoch 12/350\n",
      "4/4 [==============================] - 0s 20ms/step - loss: 0.6493 - accuracy: 0.7266 - val_loss: 0.4655 - val_accuracy: 0.9062\n",
      "Epoch 13/350\n",
      "4/4 [==============================] - 0s 19ms/step - loss: 0.5926 - accuracy: 0.7969 - val_loss: 0.4462 - val_accuracy: 0.9062\n",
      "Epoch 14/350\n",
      "4/4 [==============================] - 0s 19ms/step - loss: 0.4980 - accuracy: 0.8203 - val_loss: 0.4075 - val_accuracy: 0.8750\n",
      "Epoch 15/350\n",
      "4/4 [==============================] - 0s 18ms/step - loss: 0.5828 - accuracy: 0.7734 - val_loss: 0.4149 - val_accuracy: 0.8750\n",
      "Epoch 16/350\n",
      "4/4 [==============================] - 0s 19ms/step - loss: 0.5099 - accuracy: 0.7891 - val_loss: 0.4430 - val_accuracy: 0.8125\n",
      "Epoch 17/350\n",
      "4/4 [==============================] - 0s 21ms/step - loss: 0.4731 - accuracy: 0.7969 - val_loss: 0.3411 - val_accuracy: 0.9062\n",
      "Epoch 18/350\n",
      "4/4 [==============================] - 0s 20ms/step - loss: 0.4880 - accuracy: 0.8281 - val_loss: 0.3421 - val_accuracy: 0.9375\n",
      "Epoch 19/350\n",
      "4/4 [==============================] - 0s 18ms/step - loss: 0.4764 - accuracy: 0.7969 - val_loss: 0.3030 - val_accuracy: 0.9688\n",
      "Epoch 20/350\n",
      "4/4 [==============================] - 0s 18ms/step - loss: 0.4020 - accuracy: 0.8359 - val_loss: 0.3486 - val_accuracy: 0.8750\n",
      "Epoch 21/350\n",
      "4/4 [==============================] - 0s 17ms/step - loss: 0.4211 - accuracy: 0.8438 - val_loss: 0.3245 - val_accuracy: 0.8750\n",
      "Epoch 22/350\n",
      "4/4 [==============================] - 0s 17ms/step - loss: 0.4008 - accuracy: 0.8438 - val_loss: 0.3502 - val_accuracy: 0.8750\n",
      "Epoch 23/350\n",
      "4/4 [==============================] - 0s 19ms/step - loss: 0.3803 - accuracy: 0.8516 - val_loss: 0.2885 - val_accuracy: 0.9062\n",
      "Epoch 24/350\n",
      "4/4 [==============================] - 0s 19ms/step - loss: 0.3475 - accuracy: 0.8984 - val_loss: 0.2714 - val_accuracy: 0.9688\n",
      "Epoch 25/350\n",
      "4/4 [==============================] - 0s 18ms/step - loss: 0.4444 - accuracy: 0.8281 - val_loss: 0.4176 - val_accuracy: 0.9062\n",
      "Epoch 26/350\n",
      "4/4 [==============================] - 0s 18ms/step - loss: 0.3599 - accuracy: 0.9062 - val_loss: 0.2512 - val_accuracy: 1.0000\n",
      "Epoch 27/350\n",
      "4/4 [==============================] - 0s 17ms/step - loss: 0.2853 - accuracy: 0.9219 - val_loss: 0.2496 - val_accuracy: 0.9062\n",
      "Epoch 28/350\n",
      "4/4 [==============================] - 0s 17ms/step - loss: 0.3378 - accuracy: 0.8750 - val_loss: 0.2712 - val_accuracy: 0.9062\n",
      "Epoch 29/350\n",
      "4/4 [==============================] - 0s 19ms/step - loss: 0.3487 - accuracy: 0.9141 - val_loss: 0.2982 - val_accuracy: 0.8750\n",
      "Epoch 30/350\n",
      "4/4 [==============================] - 0s 19ms/step - loss: 0.3759 - accuracy: 0.8594 - val_loss: 0.3564 - val_accuracy: 0.8750\n",
      "Epoch 31/350\n",
      "4/4 [==============================] - 0s 18ms/step - loss: 0.3708 - accuracy: 0.9141 - val_loss: 0.2838 - val_accuracy: 0.9375\n",
      "Epoch 32/350\n",
      "4/4 [==============================] - 0s 18ms/step - loss: 0.3018 - accuracy: 0.8984 - val_loss: 0.2250 - val_accuracy: 0.9688\n",
      "Epoch 33/350\n",
      "4/4 [==============================] - 0s 17ms/step - loss: 0.2770 - accuracy: 0.9141 - val_loss: 0.2234 - val_accuracy: 1.0000\n",
      "Epoch 34/350\n",
      "4/4 [==============================] - 0s 17ms/step - loss: 0.2672 - accuracy: 0.8906 - val_loss: 0.1924 - val_accuracy: 1.0000\n",
      "Epoch 35/350\n",
      "4/4 [==============================] - 0s 18ms/step - loss: 0.2836 - accuracy: 0.9141 - val_loss: 0.1878 - val_accuracy: 0.9688\n",
      "Epoch 36/350\n",
      "4/4 [==============================] - 0s 17ms/step - loss: 0.2826 - accuracy: 0.8828 - val_loss: 0.2175 - val_accuracy: 0.9688\n",
      "Epoch 37/350\n",
      "4/4 [==============================] - 0s 18ms/step - loss: 0.3275 - accuracy: 0.8984 - val_loss: 0.1871 - val_accuracy: 1.0000\n",
      "Epoch 38/350\n",
      "4/4 [==============================] - 0s 18ms/step - loss: 0.2714 - accuracy: 0.9062 - val_loss: 0.1864 - val_accuracy: 1.0000\n",
      "Epoch 39/350\n",
      "4/4 [==============================] - 0s 20ms/step - loss: 0.2845 - accuracy: 0.8984 - val_loss: 0.3580 - val_accuracy: 0.9375\n",
      "Epoch 40/350\n",
      "4/4 [==============================] - 0s 25ms/step - loss: 0.2800 - accuracy: 0.9297 - val_loss: 0.1760 - val_accuracy: 1.0000\n",
      "Epoch 41/350\n",
      "4/4 [==============================] - 0s 18ms/step - loss: 0.2244 - accuracy: 0.9219 - val_loss: 0.2258 - val_accuracy: 0.9688\n",
      "Epoch 42/350\n",
      "4/4 [==============================] - 0s 19ms/step - loss: 0.3279 - accuracy: 0.9062 - val_loss: 0.2731 - val_accuracy: 0.9688\n",
      "Epoch 43/350\n",
      "4/4 [==============================] - 0s 18ms/step - loss: 0.2408 - accuracy: 0.9453 - val_loss: 0.2075 - val_accuracy: 0.9688\n",
      "Epoch 44/350\n",
      "4/4 [==============================] - 0s 20ms/step - loss: 0.2387 - accuracy: 0.9141 - val_loss: 0.2428 - val_accuracy: 0.9375\n",
      "Epoch 45/350\n",
      "4/4 [==============================] - 0s 20ms/step - loss: 0.2634 - accuracy: 0.9219 - val_loss: 0.2425 - val_accuracy: 0.9062\n",
      "Epoch 46/350\n",
      "4/4 [==============================] - 0s 18ms/step - loss: 0.2303 - accuracy: 0.9141 - val_loss: 0.1555 - val_accuracy: 1.0000\n",
      "Epoch 47/350\n",
      "4/4 [==============================] - 0s 20ms/step - loss: 0.2301 - accuracy: 0.9141 - val_loss: 0.1789 - val_accuracy: 0.9688\n",
      "Epoch 48/350\n",
      "4/4 [==============================] - 0s 18ms/step - loss: 0.2699 - accuracy: 0.9375 - val_loss: 0.1640 - val_accuracy: 1.0000\n",
      "Epoch 49/350\n",
      "4/4 [==============================] - 0s 18ms/step - loss: 0.2625 - accuracy: 0.9141 - val_loss: 0.1568 - val_accuracy: 1.0000\n",
      "Epoch 50/350\n",
      "4/4 [==============================] - 0s 18ms/step - loss: 0.2077 - accuracy: 0.9141 - val_loss: 0.1877 - val_accuracy: 0.9688\n",
      "Epoch 51/350\n",
      "4/4 [==============================] - 0s 18ms/step - loss: 0.2450 - accuracy: 0.9062 - val_loss: 0.2557 - val_accuracy: 0.9062\n",
      "Epoch 52/350\n",
      "4/4 [==============================] - 0s 19ms/step - loss: 0.1778 - accuracy: 0.9453 - val_loss: 0.2187 - val_accuracy: 0.9062\n",
      "Epoch 53/350\n",
      "4/4 [==============================] - 0s 19ms/step - loss: 0.2480 - accuracy: 0.8984 - val_loss: 0.1551 - val_accuracy: 0.9688\n",
      "Epoch 54/350\n",
      "4/4 [==============================] - 0s 17ms/step - loss: 0.2378 - accuracy: 0.9375 - val_loss: 0.1438 - val_accuracy: 1.0000\n",
      "Epoch 55/350\n",
      "4/4 [==============================] - 0s 18ms/step - loss: 0.1980 - accuracy: 0.9453 - val_loss: 0.1522 - val_accuracy: 0.9688\n",
      "Epoch 56/350\n",
      "4/4 [==============================] - 0s 17ms/step - loss: 0.2394 - accuracy: 0.9062 - val_loss: 0.1486 - val_accuracy: 1.0000\n",
      "Epoch 57/350\n",
      "4/4 [==============================] - 0s 17ms/step - loss: 0.1973 - accuracy: 0.9688 - val_loss: 0.2560 - val_accuracy: 0.9688\n",
      "Epoch 58/350\n",
      "4/4 [==============================] - 0s 18ms/step - loss: 0.2245 - accuracy: 0.9062 - val_loss: 0.1383 - val_accuracy: 1.0000\n",
      "Epoch 59/350\n",
      "4/4 [==============================] - 0s 18ms/step - loss: 0.2029 - accuracy: 0.8984 - val_loss: 0.1373 - val_accuracy: 1.0000\n",
      "Epoch 60/350\n",
      "4/4 [==============================] - 0s 19ms/step - loss: 0.1975 - accuracy: 0.9609 - val_loss: 0.1625 - val_accuracy: 0.9688\n",
      "Epoch 61/350\n",
      "4/4 [==============================] - 0s 17ms/step - loss: 0.2356 - accuracy: 0.9062 - val_loss: 0.1306 - val_accuracy: 1.0000\n",
      "Epoch 62/350\n",
      "4/4 [==============================] - 0s 18ms/step - loss: 0.2394 - accuracy: 0.9141 - val_loss: 0.1390 - val_accuracy: 1.0000\n",
      "Epoch 63/350\n",
      "4/4 [==============================] - 0s 18ms/step - loss: 0.1892 - accuracy: 0.9375 - val_loss: 0.1658 - val_accuracy: 0.9688\n",
      "Epoch 64/350\n",
      "4/4 [==============================] - 0s 18ms/step - loss: 0.1748 - accuracy: 0.9688 - val_loss: 0.1277 - val_accuracy: 1.0000\n",
      "Epoch 65/350\n",
      "4/4 [==============================] - 0s 18ms/step - loss: 0.1950 - accuracy: 0.9219 - val_loss: 0.1276 - val_accuracy: 1.0000\n",
      "Epoch 66/350\n",
      "4/4 [==============================] - 0s 20ms/step - loss: 0.1993 - accuracy: 0.9297 - val_loss: 0.1218 - val_accuracy: 1.0000\n",
      "Epoch 67/350\n",
      "4/4 [==============================] - 0s 20ms/step - loss: 0.2026 - accuracy: 0.9531 - val_loss: 0.1275 - val_accuracy: 1.0000\n",
      "Epoch 68/350\n",
      "4/4 [==============================] - 0s 20ms/step - loss: 0.1908 - accuracy: 0.9219 - val_loss: 0.1616 - val_accuracy: 0.9688\n",
      "Epoch 69/350\n",
      "4/4 [==============================] - 0s 20ms/step - loss: 0.1776 - accuracy: 0.9531 - val_loss: 0.1181 - val_accuracy: 1.0000\n",
      "Epoch 70/350\n",
      "4/4 [==============================] - 0s 20ms/step - loss: 0.2379 - accuracy: 0.9062 - val_loss: 0.1304 - val_accuracy: 1.0000\n",
      "Epoch 71/350\n",
      "4/4 [==============================] - 0s 18ms/step - loss: 0.2112 - accuracy: 0.9297 - val_loss: 0.1657 - val_accuracy: 0.9688\n",
      "Epoch 72/350\n",
      "4/4 [==============================] - 0s 21ms/step - loss: 0.1723 - accuracy: 0.9766 - val_loss: 0.1215 - val_accuracy: 1.0000\n",
      "Epoch 73/350\n",
      "4/4 [==============================] - 0s 18ms/step - loss: 0.1788 - accuracy: 0.9609 - val_loss: 0.1801 - val_accuracy: 0.9688\n",
      "Epoch 74/350\n",
      "4/4 [==============================] - 0s 17ms/step - loss: 0.1799 - accuracy: 0.9531 - val_loss: 0.1682 - val_accuracy: 0.9688\n",
      "Epoch 75/350\n",
      "4/4 [==============================] - 0s 19ms/step - loss: 0.1955 - accuracy: 0.9609 - val_loss: 0.1462 - val_accuracy: 0.9688\n",
      "Epoch 76/350\n",
      "4/4 [==============================] - 0s 18ms/step - loss: 0.1724 - accuracy: 0.9531 - val_loss: 0.1623 - val_accuracy: 0.9688\n",
      "Epoch 77/350\n",
      "4/4 [==============================] - 0s 20ms/step - loss: 0.2199 - accuracy: 0.9297 - val_loss: 0.1911 - val_accuracy: 0.9688\n",
      "Epoch 78/350\n",
      "4/4 [==============================] - 0s 19ms/step - loss: 0.2250 - accuracy: 0.9297 - val_loss: 0.1157 - val_accuracy: 1.0000\n",
      "Epoch 79/350\n",
      "4/4 [==============================] - 0s 20ms/step - loss: 0.1619 - accuracy: 0.9688 - val_loss: 0.1731 - val_accuracy: 0.9688\n",
      "Epoch 80/350\n",
      "4/4 [==============================] - 0s 18ms/step - loss: 0.1924 - accuracy: 0.9688 - val_loss: 0.5203 - val_accuracy: 0.9375\n",
      "Epoch 81/350\n",
      "4/4 [==============================] - 0s 18ms/step - loss: 0.2121 - accuracy: 0.9453 - val_loss: 0.1066 - val_accuracy: 1.0000\n",
      "Epoch 82/350\n",
      "4/4 [==============================] - 0s 18ms/step - loss: 0.2049 - accuracy: 0.9375 - val_loss: 0.1243 - val_accuracy: 0.9688\n",
      "Epoch 83/350\n",
      "4/4 [==============================] - 0s 19ms/step - loss: 0.2088 - accuracy: 0.9375 - val_loss: 0.2106 - val_accuracy: 0.9688\n",
      "Epoch 84/350\n",
      "4/4 [==============================] - 0s 19ms/step - loss: 0.1821 - accuracy: 0.9609 - val_loss: 0.1984 - val_accuracy: 0.9688\n",
      "Epoch 85/350\n",
      "4/4 [==============================] - 0s 19ms/step - loss: 0.1933 - accuracy: 0.9688 - val_loss: 0.2575 - val_accuracy: 0.9688\n",
      "Epoch 86/350\n",
      "4/4 [==============================] - 0s 18ms/step - loss: 0.1647 - accuracy: 0.9688 - val_loss: 0.3104 - val_accuracy: 0.9375\n",
      "Epoch 87/350\n",
      "4/4 [==============================] - 0s 18ms/step - loss: 0.1661 - accuracy: 0.9453 - val_loss: 0.3210 - val_accuracy: 0.9688\n",
      "Epoch 88/350\n",
      "4/4 [==============================] - 0s 17ms/step - loss: 0.1562 - accuracy: 0.9688 - val_loss: 0.4313 - val_accuracy: 0.9688\n",
      "Epoch 89/350\n",
      "4/4 [==============================] - 0s 18ms/step - loss: 0.1377 - accuracy: 0.9766 - val_loss: 0.5720 - val_accuracy: 0.9688\n",
      "Epoch 90/350\n",
      "4/4 [==============================] - 0s 19ms/step - loss: 0.1497 - accuracy: 0.9766 - val_loss: 0.5794 - val_accuracy: 0.9688\n",
      "Epoch 91/350\n",
      "4/4 [==============================] - 0s 19ms/step - loss: 0.1941 - accuracy: 0.9375 - val_loss: 0.4892 - val_accuracy: 0.9688\n",
      "Epoch 92/350\n",
      "4/4 [==============================] - 0s 18ms/step - loss: 0.1078 - accuracy: 0.9922 - val_loss: 0.5244 - val_accuracy: 0.9688\n",
      "Epoch 93/350\n",
      "4/4 [==============================] - 0s 18ms/step - loss: 0.1645 - accuracy: 0.9531 - val_loss: 0.2999 - val_accuracy: 0.9688\n",
      "Epoch 94/350\n",
      "4/4 [==============================] - 0s 18ms/step - loss: 0.1674 - accuracy: 0.9453 - val_loss: 0.2183 - val_accuracy: 0.9688\n",
      "Epoch 95/350\n",
      "4/4 [==============================] - 0s 18ms/step - loss: 0.1318 - accuracy: 0.9688 - val_loss: 0.1250 - val_accuracy: 0.9688\n",
      "Epoch 96/350\n",
      "4/4 [==============================] - 0s 18ms/step - loss: 0.1697 - accuracy: 0.9609 - val_loss: 0.5138 - val_accuracy: 0.9375\n",
      "Epoch 97/350\n",
      "4/4 [==============================] - 0s 17ms/step - loss: 0.1650 - accuracy: 0.9609 - val_loss: 1.0271 - val_accuracy: 0.9375\n",
      "Epoch 98/350\n",
      "4/4 [==============================] - 0s 18ms/step - loss: 0.1462 - accuracy: 0.9766 - val_loss: 0.2065 - val_accuracy: 0.9688\n",
      "Epoch 99/350\n",
      "4/4 [==============================] - 0s 17ms/step - loss: 0.1320 - accuracy: 0.9688 - val_loss: 0.2236 - val_accuracy: 0.9688\n",
      "Epoch 100/350\n",
      "4/4 [==============================] - 0s 17ms/step - loss: 0.1267 - accuracy: 0.9766 - val_loss: 0.1922 - val_accuracy: 0.9688\n",
      "Epoch 101/350\n",
      "4/4 [==============================] - 0s 19ms/step - loss: 0.1279 - accuracy: 0.9688 - val_loss: 0.4190 - val_accuracy: 0.9688\n",
      "Epoch 00101: early stopping\n"
     ]
    }
   ],
   "source": [
    "history=model.fit(x_train,y_train,validation_split=0.2,epochs=350,callbacks=early_stopping)"
   ]
  },
  {
   "cell_type": "code",
   "execution_count": 34,
   "id": "6d5c1a16",
   "metadata": {
    "execution": {
     "iopub.execute_input": "2022-12-09T06:38:31.197158Z",
     "iopub.status.busy": "2022-12-09T06:38:31.196618Z",
     "iopub.status.idle": "2022-12-09T06:38:31.202356Z",
     "shell.execute_reply": "2022-12-09T06:38:31.200883Z"
    },
    "papermill": {
     "duration": 0.038994,
     "end_time": "2022-12-09T06:38:31.205397",
     "exception": false,
     "start_time": "2022-12-09T06:38:31.166403",
     "status": "completed"
    },
    "tags": []
   },
   "outputs": [],
   "source": [
    "new_x=x_test[:3]"
   ]
  },
  {
   "cell_type": "code",
   "execution_count": 35,
   "id": "2fafc6d8",
   "metadata": {
    "execution": {
     "iopub.execute_input": "2022-12-09T06:38:31.267141Z",
     "iopub.status.busy": "2022-12-09T06:38:31.265901Z",
     "iopub.status.idle": "2022-12-09T06:38:31.275336Z",
     "shell.execute_reply": "2022-12-09T06:38:31.274053Z"
    },
    "papermill": {
     "duration": 0.043621,
     "end_time": "2022-12-09T06:38:31.278257",
     "exception": false,
     "start_time": "2022-12-09T06:38:31.234636",
     "status": "completed"
    },
    "tags": []
   },
   "outputs": [
    {
     "data": {
      "text/plain": [
       "array([[ 0.16269866,  2.42267869,  0.96076892, -0.79121189, -0.64686916,\n",
       "         1.03046381],\n",
       "       [ 0.76865269,  0.42236589,  0.96076892, -0.79121189, -0.64686916,\n",
       "         1.03046381],\n",
       "       [-0.26146916, -0.83008471, -1.040833  , -0.79121189,  1.54590766,\n",
       "        -0.97043679]])"
      ]
     },
     "execution_count": 35,
     "metadata": {},
     "output_type": "execute_result"
    }
   ],
   "source": [
    "new_x"
   ]
  },
  {
   "cell_type": "code",
   "execution_count": 36,
   "id": "22bbdb17",
   "metadata": {
    "execution": {
     "iopub.execute_input": "2022-12-09T06:38:31.337669Z",
     "iopub.status.busy": "2022-12-09T06:38:31.336482Z",
     "iopub.status.idle": "2022-12-09T06:38:31.523388Z",
     "shell.execute_reply": "2022-12-09T06:38:31.521802Z"
    },
    "papermill": {
     "duration": 0.220481,
     "end_time": "2022-12-09T06:38:31.526610",
     "exception": false,
     "start_time": "2022-12-09T06:38:31.306129",
     "status": "completed"
    },
    "tags": []
   },
   "outputs": [
    {
     "data": {
      "text/plain": [
       "array([[9.9994183e-01, 5.5977074e-05, 2.1040041e-11, 2.0353532e-06,\n",
       "        7.0604756e-08],\n",
       "       [9.9994147e-01, 5.6373709e-05, 2.1349080e-11, 2.0525704e-06,\n",
       "        7.4592378e-08],\n",
       "       [3.4723539e-06, 9.8920701e-08, 3.0442872e-04, 9.4920818e-09,\n",
       "        9.9969196e-01]], dtype=float32)"
      ]
     },
     "execution_count": 36,
     "metadata": {},
     "output_type": "execute_result"
    }
   ],
   "source": [
    "pred_y=model.predict(new_x)\n",
    "pred_y"
   ]
  },
  {
   "cell_type": "code",
   "execution_count": 37,
   "id": "17c480d7",
   "metadata": {
    "execution": {
     "iopub.execute_input": "2022-12-09T06:38:31.586298Z",
     "iopub.status.busy": "2022-12-09T06:38:31.584782Z",
     "iopub.status.idle": "2022-12-09T06:38:31.594343Z",
     "shell.execute_reply": "2022-12-09T06:38:31.593123Z"
    },
    "papermill": {
     "duration": 0.041707,
     "end_time": "2022-12-09T06:38:31.596800",
     "exception": false,
     "start_time": "2022-12-09T06:38:31.555093",
     "status": "completed"
    },
    "tags": []
   },
   "outputs": [
    {
     "data": {
      "text/plain": [
       "array([0, 0, 4])"
      ]
     },
     "execution_count": 37,
     "metadata": {},
     "output_type": "execute_result"
    }
   ],
   "source": [
    "fin_pred=np.argmax(pred_y,axis=1)\n",
    "fin_pred"
   ]
  },
  {
   "cell_type": "code",
   "execution_count": 38,
   "id": "4bcb7112",
   "metadata": {
    "execution": {
     "iopub.execute_input": "2022-12-09T06:38:31.656141Z",
     "iopub.status.busy": "2022-12-09T06:38:31.654900Z",
     "iopub.status.idle": "2022-12-09T06:38:31.668234Z",
     "shell.execute_reply": "2022-12-09T06:38:31.667044Z"
    },
    "papermill": {
     "duration": 0.045121,
     "end_time": "2022-12-09T06:38:31.670794",
     "exception": false,
     "start_time": "2022-12-09T06:38:31.625673",
     "status": "completed"
    },
    "tags": []
   },
   "outputs": [
    {
     "data": {
      "text/html": [
       "<div>\n",
       "<style scoped>\n",
       "    .dataframe tbody tr th:only-of-type {\n",
       "        vertical-align: middle;\n",
       "    }\n",
       "\n",
       "    .dataframe tbody tr th {\n",
       "        vertical-align: top;\n",
       "    }\n",
       "\n",
       "    .dataframe thead th {\n",
       "        text-align: right;\n",
       "    }\n",
       "</style>\n",
       "<table border=\"1\" class=\"dataframe\">\n",
       "  <thead>\n",
       "    <tr style=\"text-align: right;\">\n",
       "      <th></th>\n",
       "      <th>Drug_DrugY</th>\n",
       "      <th>Drug_drugA</th>\n",
       "      <th>Drug_drugB</th>\n",
       "      <th>Drug_drugC</th>\n",
       "      <th>Drug_drugX</th>\n",
       "    </tr>\n",
       "  </thead>\n",
       "  <tbody>\n",
       "    <tr>\n",
       "      <th>128</th>\n",
       "      <td>1</td>\n",
       "      <td>0</td>\n",
       "      <td>0</td>\n",
       "      <td>0</td>\n",
       "      <td>0</td>\n",
       "    </tr>\n",
       "    <tr>\n",
       "      <th>20</th>\n",
       "      <td>1</td>\n",
       "      <td>0</td>\n",
       "      <td>0</td>\n",
       "      <td>0</td>\n",
       "      <td>0</td>\n",
       "    </tr>\n",
       "    <tr>\n",
       "      <th>117</th>\n",
       "      <td>0</td>\n",
       "      <td>0</td>\n",
       "      <td>0</td>\n",
       "      <td>0</td>\n",
       "      <td>1</td>\n",
       "    </tr>\n",
       "  </tbody>\n",
       "</table>\n",
       "</div>"
      ],
      "text/plain": [
       "     Drug_DrugY  Drug_drugA  Drug_drugB  Drug_drugC  Drug_drugX\n",
       "128           1           0           0           0           0\n",
       "20            1           0           0           0           0\n",
       "117           0           0           0           0           1"
      ]
     },
     "execution_count": 38,
     "metadata": {},
     "output_type": "execute_result"
    }
   ],
   "source": [
    "y_test[:3]"
   ]
  },
  {
   "cell_type": "code",
   "execution_count": 39,
   "id": "ec89cbce",
   "metadata": {
    "execution": {
     "iopub.execute_input": "2022-12-09T06:38:31.733788Z",
     "iopub.status.busy": "2022-12-09T06:38:31.732615Z",
     "iopub.status.idle": "2022-12-09T06:38:31.807569Z",
     "shell.execute_reply": "2022-12-09T06:38:31.806346Z"
    },
    "papermill": {
     "duration": 0.110768,
     "end_time": "2022-12-09T06:38:31.810836",
     "exception": false,
     "start_time": "2022-12-09T06:38:31.700068",
     "status": "completed"
    },
    "tags": []
   },
   "outputs": [],
   "source": [
    "y_pred=model.predict(x_test)"
   ]
  },
  {
   "cell_type": "code",
   "execution_count": 40,
   "id": "0f3b8f82",
   "metadata": {
    "execution": {
     "iopub.execute_input": "2022-12-09T06:38:31.870291Z",
     "iopub.status.busy": "2022-12-09T06:38:31.869738Z",
     "iopub.status.idle": "2022-12-09T06:38:31.875782Z",
     "shell.execute_reply": "2022-12-09T06:38:31.874454Z"
    },
    "papermill": {
     "duration": 0.038647,
     "end_time": "2022-12-09T06:38:31.878584",
     "exception": false,
     "start_time": "2022-12-09T06:38:31.839937",
     "status": "completed"
    },
    "tags": []
   },
   "outputs": [],
   "source": [
    "output=pd.DataFrame(y_pred)"
   ]
  },
  {
   "cell_type": "code",
   "execution_count": 41,
   "id": "e7341d5e",
   "metadata": {
    "execution": {
     "iopub.execute_input": "2022-12-09T06:38:31.939300Z",
     "iopub.status.busy": "2022-12-09T06:38:31.938537Z",
     "iopub.status.idle": "2022-12-09T06:38:31.949316Z",
     "shell.execute_reply": "2022-12-09T06:38:31.948435Z"
    },
    "papermill": {
     "duration": 0.044794,
     "end_time": "2022-12-09T06:38:31.951536",
     "exception": false,
     "start_time": "2022-12-09T06:38:31.906742",
     "status": "completed"
    },
    "tags": []
   },
   "outputs": [
    {
     "data": {
      "text/plain": [
       "'0: drugY\\n1: Drug A\\n2: Drug B\\n3: Drug C\\n4: Drug X'"
      ]
     },
     "execution_count": 41,
     "metadata": {},
     "output_type": "execute_result"
    }
   ],
   "source": [
    "output.to_csv('output.csv') \n",
    "\n",
    "'''0: drugY\n",
    "1: Drug A\n",
    "2: Drug B\n",
    "3: Drug C\n",
    "4: Drug X'''"
   ]
  }
 ],
 "metadata": {
  "kernelspec": {
   "display_name": "Python 3 (ipykernel)",
   "language": "python",
   "name": "python3"
  },
  "language_info": {
   "codemirror_mode": {
    "name": "ipython",
    "version": 3
   },
   "file_extension": ".py",
   "mimetype": "text/x-python",
   "name": "python",
   "nbconvert_exporter": "python",
   "pygments_lexer": "ipython3",
   "version": "3.9.13"
  },
  "papermill": {
   "default_parameters": {},
   "duration": 32.312846,
   "end_time": "2022-12-09T06:38:34.723190",
   "environment_variables": {},
   "exception": null,
   "input_path": "__notebook__.ipynb",
   "output_path": "__notebook__.ipynb",
   "parameters": {},
   "start_time": "2022-12-09T06:38:02.410344",
   "version": "2.3.4"
  }
 },
 "nbformat": 4,
 "nbformat_minor": 5
}
